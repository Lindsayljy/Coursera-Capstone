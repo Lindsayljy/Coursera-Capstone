{
    "cells": [
        {
            "cell_type": "code",
            "execution_count": 2,
            "metadata": {},
            "outputs": [],
            "source": "import pandas as pd\nimport numpy as np\nfrom bs4 import BeautifulSoup\nimport requests"
        },
        {
            "cell_type": "code",
            "execution_count": 3,
            "metadata": {},
            "outputs": [],
            "source": "wikipedia_link='https://en.wikipedia.org/wiki/List_of_postal_codes_of_Canada:_M'\nraw_wikipedia_page= requests.get(wikipedia_link).text\nsoup = BeautifulSoup(raw_wikipedia_page,'xml')"
        },
        {
            "cell_type": "code",
            "execution_count": 6,
            "metadata": {},
            "outputs": [],
            "source": "table = soup.find('table')\nPostcode      = []\nBorough       = []\nNeighbourhood = []"
        },
        {
            "cell_type": "code",
            "execution_count": 14,
            "metadata": {},
            "outputs": [],
            "source": "for tr_cell in table.find_all('tr'):\n    \n    counter = 1\n    Postcode_var      = -1\n    Borough_var       = -1\n    Neighbourhood_var = -1\n    \n    for td_cell in tr_cell.find_all('td'):\n        if counter == 1: \n            Postcode_var = td_cell.text\n        if counter == 2: \n            Borough_var = td_cell.text\n            tag_a_Borough = td_cell.find('a')\n            \n        if counter == 3: \n            Neighbourhood_var = str(td_cell.text).strip()\n            tag_a_Neighbourhood = td_cell.find('a')\n            \n        counter +=1\n        \n        if (Postcode_var == 'Not assigned' or Borough_var == 'Not assigned' or Neighbourhood_var == 'Not assigned'):\n            \n            continue\n            \n           \n    try:\n        if ((tag_a_Borough is None) or (tag_a_Neighbourhood is None)):\n            \n            continue\n            \n            \n    except:\n        \n        pass\n    \n    if(Postcode_var == -1 or Borough_var == -1 or Neighbourhood_var == -1):\n        \n        continue\n            \n        \n    Postcode.append(Postcode_var)\n    Borough.append(Borough_var)\n    Neighbourhood.append(Neighbourhood_var)"
        },
        {
            "cell_type": "code",
            "execution_count": 15,
            "metadata": {},
            "outputs": [
                {
                    "name": "stdout",
                    "output_type": "stream",
                    "text": "num of unique Postal codes: 77\n"
                }
            ],
            "source": "unique_p = set(Postcode)\nprint('num of unique Postal codes:', len(unique_p))\nPostcode_u      = []\nBorough_u       = []\nNeighbourhood_u = []"
        },
        {
            "cell_type": "code",
            "execution_count": 17,
            "metadata": {},
            "outputs": [],
            "source": "for postcode_unique_element in unique_p:\n    p_var = ''; b_var = ''; n_var = ''; \n    for postcode_idx, postcode_element in enumerate(Postcode):\n        if postcode_unique_element == postcode_element:\n            p_var = postcode_element;\n            b_var = Borough[postcode_idx]\n            if n_var == '': \n                n_var = Neighbourhood[postcode_idx]\n            else:\n                n_var = n_var + ', ' + Neighbourhood[postcode_idx]\n    Postcode_u.append(p_var)\n    Borough_u.append(b_var)\n    Neighbourhood_u.append(n_var)"
        },
        {
            "cell_type": "code",
            "execution_count": 19,
            "metadata": {},
            "outputs": [
                {
                    "data": {
                        "text/html": "<div>\n<style scoped>\n    .dataframe tbody tr th:only-of-type {\n        vertical-align: middle;\n    }\n\n    .dataframe tbody tr th {\n        vertical-align: top;\n    }\n\n    .dataframe thead th {\n        text-align: right;\n    }\n</style>\n<table border=\"1\" class=\"dataframe\">\n  <thead>\n    <tr style=\"text-align: right;\">\n      <th></th>\n      <th>Postcode</th>\n      <th>Borough</th>\n      <th>Neighbourhood</th>\n    </tr>\n  </thead>\n  <tbody>\n    <tr>\n      <th>0</th>\n      <td>M1T</td>\n      <td>Scarborough</td>\n      <td>Tam O'Shanter, Tam O'Shanter</td>\n    </tr>\n    <tr>\n      <th>1</th>\n      <td>M5T</td>\n      <td>Downtown Toronto</td>\n      <td>Chinatown, Grange Park, Kensington Market, Chi...</td>\n    </tr>\n    <tr>\n      <th>2</th>\n      <td>M4J</td>\n      <td>East York</td>\n      <td>East Toronto, East Toronto</td>\n    </tr>\n    <tr>\n      <th>3</th>\n      <td>M4B</td>\n      <td>East York</td>\n      <td>Woodbine Gardens, Parkview Hill, Woodbine Gard...</td>\n    </tr>\n    <tr>\n      <th>4</th>\n      <td>M2K</td>\n      <td>North York</td>\n      <td>Bayview Village, Bayview Village</td>\n    </tr>\n    <tr>\n      <th>5</th>\n      <td>M4W</td>\n      <td>Downtown Toronto</td>\n      <td>Rosedale, Rosedale</td>\n    </tr>\n    <tr>\n      <th>6</th>\n      <td>M4X</td>\n      <td>Downtown Toronto</td>\n      <td>Cabbagetown, St. James Town, Cabbagetown, St. ...</td>\n    </tr>\n    <tr>\n      <th>7</th>\n      <td>M9L</td>\n      <td>North York</td>\n      <td>Humber Summit, Humber Summit</td>\n    </tr>\n    <tr>\n      <th>8</th>\n      <td>M9N</td>\n      <td>York</td>\n      <td>Weston, Weston</td>\n    </tr>\n    <tr>\n      <th>9</th>\n      <td>M8Z</td>\n      <td>Etobicoke</td>\n      <td>Mimico NW, The Queensway West, Mimico NW, The ...</td>\n    </tr>\n    <tr>\n      <th>10</th>\n      <td>M9A</td>\n      <td>Queen's Park</td>\n      <td>Queen's Park, Queen's Park</td>\n    </tr>\n    <tr>\n      <th>11</th>\n      <td>M3A</td>\n      <td>North York</td>\n      <td>Parkwoods, Parkwoods</td>\n    </tr>\n    <tr>\n      <th>12</th>\n      <td>M1E</td>\n      <td>Scarborough</td>\n      <td>Morningside, West Hill, Morningside, West Hill</td>\n    </tr>\n    <tr>\n      <th>13</th>\n      <td>M1S</td>\n      <td>Scarborough</td>\n      <td>Agincourt, Agincourt</td>\n    </tr>\n  </tbody>\n</table>\n</div>",
                        "text/plain": "   Postcode           Borough  \\\n0       M1T       Scarborough   \n1       M5T  Downtown Toronto   \n2       M4J         East York   \n3       M4B         East York   \n4       M2K        North York   \n5       M4W  Downtown Toronto   \n6       M4X  Downtown Toronto   \n7       M9L        North York   \n8       M9N              York   \n9       M8Z         Etobicoke   \n10      M9A      Queen's Park   \n11      M3A        North York   \n12      M1E       Scarborough   \n13      M1S       Scarborough   \n\n                                        Neighbourhood  \n0                        Tam O'Shanter, Tam O'Shanter  \n1   Chinatown, Grange Park, Kensington Market, Chi...  \n2                          East Toronto, East Toronto  \n3   Woodbine Gardens, Parkview Hill, Woodbine Gard...  \n4                    Bayview Village, Bayview Village  \n5                                  Rosedale, Rosedale  \n6   Cabbagetown, St. James Town, Cabbagetown, St. ...  \n7                        Humber Summit, Humber Summit  \n8                                      Weston, Weston  \n9   Mimico NW, The Queensway West, Mimico NW, The ...  \n10                         Queen's Park, Queen's Park  \n11                               Parkwoods, Parkwoods  \n12     Morningside, West Hill, Morningside, West Hill  \n13                               Agincourt, Agincourt  "
                    },
                    "execution_count": 19,
                    "metadata": {},
                    "output_type": "execute_result"
                }
            ],
            "source": "toronto_dict = {'Postcode':Postcode_u, 'Borough':Borough_u, 'Neighbourhood':Neighbourhood_u}\ndf_toronto = pd.DataFrame.from_dict(toronto_dict)\ndf_toronto.to_csv('toronto_part1.csv')\ndf_toronto.head(14)"
        },
        {
            "cell_type": "code",
            "execution_count": 20,
            "metadata": {},
            "outputs": [
                {
                    "data": {
                        "text/plain": "(154, 3)"
                    },
                    "execution_count": 20,
                    "metadata": {},
                    "output_type": "execute_result"
                }
            ],
            "source": "df_toronto.shape"
        },
        {
            "cell_type": "code",
            "execution_count": null,
            "metadata": {},
            "outputs": [],
            "source": ""
        }
    ],
    "metadata": {
        "kernelspec": {
            "display_name": "Python 3.6",
            "language": "python",
            "name": "python3"
        },
        "language_info": {
            "codemirror_mode": {
                "name": "ipython",
                "version": 3
            },
            "file_extension": ".py",
            "mimetype": "text/x-python",
            "name": "python",
            "nbconvert_exporter": "python",
            "pygments_lexer": "ipython3",
            "version": "3.6.8"
        }
    },
    "nbformat": 4,
    "nbformat_minor": 1
}